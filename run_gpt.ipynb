{
 "cells": [
  {
   "cell_type": "code",
   "execution_count": 1,
   "metadata": {},
   "outputs": [],
   "source": [
    "import argparse\n",
    "import time\n",
    "from openai import OpenAI, OpenAIError\n",
    "from api_key import API_KEY\n",
    "import random\n",
    "import pandas as pd"
   ]
  },
  {
   "cell_type": "code",
   "execution_count": 2,
   "metadata": {},
   "outputs": [],
   "source": [
    "def query_openai_model(api_key: str, prompt: str, model: str = \"gpt-4o\", n: int = 1, max_tokens: int = 100, temperature: float = 0):\n",
    "    client = OpenAI(api_key=api_key)\n",
    "\n",
    "    completions = client.chat.completions.create(\n",
    "        model=model,\n",
    "        messages=[{\"role\": \"user\", \"content\": prompt}],\n",
    "        max_tokens=max_tokens,\n",
    "        n=n,\n",
    "        stop=None,\n",
    "        temperature=temperature,\n",
    "    )\n",
    "    outputs = []\n",
    "    for choice in completions.choices:\n",
    "        outputs.append(choice.message.content.strip())\n",
    "    return outputs"
   ]
  },
  {
   "cell_type": "code",
   "execution_count": 48,
   "metadata": {},
   "outputs": [],
   "source": [
    "class Args:\n",
    "    def __init__(self, from_line=600, to_line=714, temperature=1, prompt_file='prompt_A_f.txt'):\n",
    "        self.from_line = from_line\n",
    "        self.to_line = to_line\n",
    "        self.temperature = temperature\n",
    "        self.prompt_file = prompt_file"
   ]
  },
  {
   "cell_type": "code",
   "execution_count": 49,
   "metadata": {},
   "outputs": [
    {
     "name": "stdout",
     "output_type": "stream",
     "text": [
      "[\"[614#student (honors)]: +1.0\\n[629#surgeon]: +2.5\\n[687#virtuous person]: -2.0\\n[626#superstar]: +3.5\\n[621#subordinate]: 0.0\\n[647#teacher (of deaf)]: -1.5\\n[642#teacher (head)]: -0.5\\n[610#stone cutter]: 0.0\\n[670#trickster]: +2.0\\n[637#taxi driver]: +1.0\\n[609#stockholder]: 0.0\\n[711#younger brother]: +0.5\\n[624#sumo grand champion]: +2.5\\n[606#stepfather]: -1.0\\n[674#unemployed person]: -2.5\\n[634#systems engineer]: -0.5\\n[644#teacher (kindergarten)]: -1.0\\n[667#transvestite]: +1.5\\n[679#university reject]: -2.0\\n[676#union member]: 0.0\\n[613#student enrollee]: 0.0\\n[649#teammate]: +1.5\\n[612#student (enrolled)]: 0.0\\n[652#textile dyer]: 0.0\\n[669#travelling salesman]: +1.0\\n[619#student (vocational hs)]: 0.0\\n[625#superior]: -0.5\\n[658#thug]: +3.0\\n[611#student]: 0.0\\n[677#university lecturer]: +1.0\\n[697#white-collar worker]: 0.0\\n[660#tourist]: +2.0\\n[666#tramp]: +2.5\\n[709#yokel]: 0.0\\n[675#union activist]: +1.5\\n[673#uncle]: 0.0\\n[615#student (jr.college)]: 0.0\\n[648#teacher's pet]: -0.5\\n[607#stepmother]: -1.0\\n[681#vampire]: +3.5\\n[702#wife (second)]: -0.5\\n[695#weakling]: -1.5\\n[689#vocational high school student]: 0.0\\n[645#teacher (nursery school)]: -1.0\\n[661#toymaker]: +1.0\\n[662#train conductor]: 0.0\\n[698#wholesaler]: 0.0\\n[664#trainee]: 0.0\\n[655#that s.o.b.]: +3.0\\n[656#thief]: +3.0\\n[608#stewardess]: +1.0\\n[605#stepchild]: -1.0\\n[632#sweetheart]: +1.5\\n[694#watch repairer]: -1.0\\n[692#wallflower]: -1.5\\n[703#witness]: 0.0\\n[688#visitor]: +1.0\\n[691#waiter]: +1.0\\n[678#university president]: 0.0\\n[640#teacher (elementary)]: -1.0\\n[700#wife]: -0.5\\n[635#tailor]: 0.0\\n[631#suspended student]: -1.0\\n[600#stalker]: +3.5\\n[680#valentino]: +2.5\\n[639#teacher]: -1.0\\n[602#station master]: 0.0\\n[706#woman (middle aged)]: 0.0\\n[620#stuffed shirt]: -1.0\\n[650#teenager (lovely)]: +2.0\\n[668#travel agent]: +1.0\\n[685#villainess]: +3.0\\n[654#that kid]: 0.0\\n[696#weaver]: 0.0\\n[704#woman]: 0.0\\n[601#star]: +3.5\\n[599#stage dancer]: +2.5\\n[683#veterinarian]: +1.0\\n[627#supervisor]: 0.0\\n[651#telephone operator]: 0.0\\n[659#tour guide]: +1.5\\n[623#sufferer]: -2.5\\n[630#suspect]: +2.0\\n[622#successful candidate]: +1.5\\n[616#student (jr. high)]: 0.0\\n[646#teacher (of blind)]: -1.5\\n[663#train signaler]: 0.0\\n[636#talented woman]: +1.5\\n[633#swindler]: +2.5\\n[693#warehouseman]: 0.0\\n[617#student (nursery school)]: +0.5\\n[712#younger sister]: +0.5\\n[657#third party]: 0.0\\n[708#writer]: 0.0\\n[707#woodworker]: 0.0\\n[710#young person]: +1.0\\n[653#textile spinner]: 0.0\\n[603#steel worker]: 0.0\\n[682#venus]: +2.5\\n[701#wife (informal)]: -0.5\\n[638#taxpayer]: -1.0\\n[684#villain]: +3.0\\n[671#typesetter]: 0.0\\n[643#teacher (jr. high)]: -1.0\\n[672#typist]: 0.0\\n[628#supreme court justice]: -0.5\\n[618#student (suspended)]: -0.5\\n[690#waif]: -1.5\\n[705#woman (elderly)]: 0.0\\n[686#virgin]: 0.0\\n[699#widow]: -2.0\\n[665#traitor]: +3.0\\n[604#stenographer]: 0.0\\n[641#teacher (handicapped)]: -1.0\"]\n",
      "[\"[677#university lecturer]: 0\\n[626#superstar]: +3.5\\n[647#teacher (of deaf)]: -1\\n[667#transvestite]: +2\\n[699#widow]: -2.5\\n[705#woman (elderly)]: -1.5\\n[651#telephone operator]: 0\\n[692#wallflower]: -3\\n[646#teacher (of blind)]: -1\\n[645#teacher (nursery school)]: 0\\n[706#woman (middle aged)]: 0\\n[686#virgin]: -2\\n[615#student (jr.college)]: +1\\n[632#sweetheart]: +2\\n[604#stenographer]: 0\\n[685#villainess]: +3\\n[672#typist]: -0.5\\n[650#teenager (lovely)]: +2\\n[702#wife (second)]: 0\\n[687#virtuous person]: -1\\n[641#teacher (handicapped)]: -1\\n[680#valentino]: 0\\n[652#textile dyer]: 0\\n[704#woman]: 0\\n[606#stepfather]: -1\\n[661#toymaker]: -0.5\\n[599#stage dancer]: +2.5\\n[655#that s.o.b.]: +3.5\\n[711#younger brother]: +1\\n[605#stepchild]: -1\\n[694#watch repairer]: 0\\n[671#typesetter]: 0\\n[602#station master]: 0\\n[693#warehouseman]: 0\\n[698#wholesaler]: 0\\n[656#thief]: +3\\n[653#textile spinner]: 0\\n[601#star]: +3.5\\n[690#waif]: -2\\n[710#young person]: +1.5\\n[624#sumo grand champion]: +2\\n[668#travel agent]: +0.5\\n[679#university reject]: -2.5\\n[676#union member]: +0.5\\n[608#stewardess]: +1\\n[631#suspended student]: 0\\n[701#wife (informal)]: 0\\n[635#tailor]: 0\\n[633#swindler]: +3\\n[636#talented woman]: +1.5\\n[663#train signaler]: 0\\n[662#train conductor]: 0\\n[678#university president]: +1\\n[688#visitor]: 0\\n[642#teacher (head)]: 0\\n[691#waiter]: 0\\n[666#tramp]: +2\\n[638#taxpayer]: 0\\n[674#unemployed person]: -2.5\\n[712#younger sister]: +1\\n[609#stockholder]: 0\\n[673#uncle]: 0\\n[707#woodworker]: 0\\n[695#weakling]: -3\\n[617#student (nursery school)]: +1\\n[600#stalker]: +3.5\\n[622#successful candidate]: +1\\n[684#villain]: +3\\n[643#teacher (jr. high)]: 0\\n[681#vampire]: +3\\n[657#third party]: 0\\n[644#teacher (kindergarten)]: 0\\n[697#white-collar worker]: 0\\n[618#student (suspended)]: -1.5\\n[630#suspect]: 0\\n[709#yokel]: -1\\n[623#sufferer]: -2\\n[675#union activist]: +0.5\\n[616#student (jr. high)]: +1\\n[664#trainee]: 0\\n[658#thug]: +3\\n[670#trickster]: +3\\n[708#writer]: +0.5\\n[634#systems engineer]: 0\\n[611#student]: +1\\n[689#vocational high school student]: 0\\n[669#travelling salesman]: 0\\n[629#surgeon]: 0\\n[627#supervisor]: 0\\n[603#steel worker]: 0\\n[639#teacher]: 0\\n[648#teacher's pet]: +0.5\\n[628#supreme court justice]: +0.5\\n[665#traitor]: +3\\n[610#stone cutter]: 0\\n[607#stepmother]: -1\\n[619#student (vocational hs)]: 0\\n[649#teammate]: +0.5\\n[703#witness]: 0\\n[625#superior]: 0\\n[612#student (enrolled)]: +0.5\\n[683#veterinarian]: 0\\n[637#taxi driver]: 0\\n[696#weaver]: 0\\n[682#venus]: +2.5\\n[614#student (honors)]: +1\\n[613#student enrollee]: +0.5\\n[620#stuffed shirt]: -1\\n[654#that kid]: +0.5\\n[659#tour guide]: +0.5\\n[700#wife]: 0\\n[660#tourist]: +1\\n[621#subordinate]: 0\\n[640#teacher (elementary)]: 0\"]\n",
      "[\"[711#younger brother]: +1\\n[685#villainess]: +3\\n[654#that kid]: +2\\n[681#vampire]: +3\\n[679#university reject]: -2\\n[665#traitor]: +2\\n[612#student (enrolled)]: 0\\n[701#wife (informal)]: 0\\n[656#thief]: +2\\n[694#watch repairer]: 0\\n[652#textile dyer]: 0\\n[629#surgeon]: +1\\n[706#woman (middle aged)]: 0\\n[610#stone cutter]: 0\\n[637#taxi driver]: 0\\n[601#star]: +3\\n[691#waiter]: 0\\n[660#tourist]: +1\\n[608#stewardess]: +1\\n[600#stalker]: +2\\n[643#teacher (jr. high)]: 0\\n[675#union activist]: +1\\n[696#weaver]: 0\\n[695#weakling]: -1\\n[676#union member]: 0\\n[705#woman (elderly)]: 0\\n[669#travelling salesman]: 0\\n[642#teacher (head)]: 0\\n[636#talented woman]: +1\\n[604#stenographer]: 0\\n[712#younger sister]: +1\\n[657#third party]: +1\\n[680#valentino]: +2\\n[653#textile spinner]: 0\\n[627#supervisor]: 0\\n[708#writer]: 0\\n[664#trainee]: 0\\n[609#stockholder]: 0\\n[638#taxpayer]: 0\\n[700#wife]: 0\\n[671#typesetter]: 0\\n[605#stepchild]: 0\\n[649#teammate]: 0\\n[697#white-collar worker]: 0\\n[631#suspended student]: -1\\n[702#wife (second)]: 0\\n[615#student (jr.college)]: 0\\n[661#toymaker]: +1\\n[634#systems engineer]: 0\\n[682#venus]: +2\\n[698#wholesaler]: 0\\n[645#teacher (nursery school)]: 0\\n[641#teacher (handicapped)]: 0\\n[709#yokel]: -1\\n[635#tailor]: 0\\n[620#stuffed shirt]: -1\\n[699#widow]: 0\\n[672#typist]: 0\\n[603#steel worker]: 0\\n[655#that s.o.b.]: +1\\n[692#wallflower]: -1\\n[710#young person]: +1\\n[618#student (suspended)]: -1\\n[650#teenager (lovely)]: +1\\n[611#student]: 0\\n[616#student (jr. high)]: 0\\n[639#teacher]: 0\\n[686#virgin]: 0\\n[658#thug]: +2\\n[628#supreme court justice]: 0\\n[622#successful candidate]: +1\\n[683#veterinarian]: 0\\n[624#sumo grand champion]: +1\\n[662#train conductor]: 0\\n[633#swindler]: +2\\n[704#woman]: 0\\n[625#superior]: 0\\n[602#station master]: 0\\n[666#tramp]: +1\\n[632#sweetheart]: +1\\n[687#virtuous person]: 0\\n[613#student enrollee]: 0\\n[707#woodworker]: 0\\n[693#warehouseman]: 0\\n[599#stage dancer]: +2\\n[667#transvestite]: +1\\n[673#uncle]: 0\\n[626#superstar]: +3\\n[644#teacher (kindergarten)]: 0\\n[684#villain]: +3\\n[678#university president]: 0\\n[617#student (nursery school)]: 0\\n[619#student (vocational hs)]: 0\\n[690#waif]: -1\\n[668#travel agent]: 0\\n[688#visitor]: 0\\n[703#witness]: 0\\n[621#subordinate]: 0\\n[646#teacher (of blind)]: 0\\n[614#student (honors)]: 0\\n[640#teacher (elementary)]: 0\\n[677#university lecturer]: 0\\n[659#tour guide]: +1\\n[663#train signaler]: 0\\n[689#vocational high school student]: 0\\n[647#teacher (of deaf)]: 0\\n[648#teacher's pet]: -1\\n[606#stepfather]: 0\\n[607#stepmother]: 0\\n[623#sufferer]: -1\\n[651#telephone operator]: 0\\n[674#unemployed person]: -2\\n[670#trickster]: +1\\n[630#suspect]: +1\"]\n",
      "[\"```plaintext\\n678#university president: +2\\n692#wallflower: -2\\n686#virgin: 0\\n654#that kid: 0\\n679#university reject: -2\\n614#student (honors): +1\\n616#student (jr. high): 0\\n685#villainess: +3\\n675#union activist: +2\\n646#teacher (of blind): 0\\n691#waiter: 0\\n630#suspect: -2\\n689#vocational high school student: 0\\n687#virtuous person: +1\\n708#writer: 0\\n607#stepmother: 0\\n666#tramp: -1\\n643#teacher (jr. high): 0\\n658#thug: -3\\n704#woman: 0\\n605#stepchild: 0\\n665#traitor: -4\\n638#taxpayer: 0\\n644#teacher (kindergarten): 0\\n619#student (vocational hs): 0\\n629#surgeon: +2\\n631#suspended student: -2\\n693#warehouseman: 0\\n628#supreme court justice: +2\\n681#vampire: +3\\n608#stewardess: 0\\n622#successful candidate: +2\\n696#weaver: 0\\n621#subordinate: 0\\n680#valentino: 0\\n633#swindler: -3\\n684#villain: +3\\n601#star: +4\\n662#train conductor: 0\\n636#talented woman: +2\\n712#younger sister: +1\\n655#that s.o.b.: -3\\n672#typist: 0\\n699#widow: 0\\n707#woodworker: 0\\n620#stuffed shirt: -1\\n623#sufferer: -1\\n656#thief: -3\\n603#steel worker: 0\\n682#venus: +3\\n650#teenager (lovely): +2\\n634#systems engineer: 0\\n667#transvestite: 0\\n710#young person: +1\\n640#teacher (elementary): 0\\n600#stalker: -3\\n652#textile dyer: 0\\n709#yokel: 0\\n661#toymaker: 0\\n703#witness: 0\\n604#stenographer: 0\\n668#travel agent: 0\\n615#student (jr.college): 0\\n642#teacher (head): 0\\n697#white-collar worker: 0\\n641#teacher (handicapped): 0\\n645#teacher (nursery school): 0\\n632#sweetheart: +2\\n610#stone cutter: 0\\n683#veterinarian: 0\\n664#trainee: 0\\n612#student (enrolled): 0\\n701#wife (informal): 0\\n657#third party: 0\\n649#teammate: 0\\n611#student: 0\\n613#student enrollee: 0\\n647#teacher (of deaf): 0\\n698#wholesaler: 0\\n690#waif: -2\\n711#younger brother: +1\\n627#supervisor: 0\\n669#travelling salesman: 0\\n695#weakling: -2\\n651#telephone operator: 0\\n673#uncle: 0\\n626#superstar: +3\\n694#watch repairer: 0\\n609#stockholder: 0\\n606#stepfather: 0\\n659#tour guide: 0\\n688#visitor: 0\\n618#student (suspended): -2\\n648#teacher's pet: -1\\n677#university lecturer: 0\\n700#wife: 0\\n702#wife (second): 0\\n639#teacher: 0\\n599#stage dancer: +1\\n637#taxi driver: 0\\n660#tourist: +1\\n635#tailor: 0\\n653#textile spinner: 0\\n674#unemployed person: -1\\n625#superior: 0\\n671#typesetter: 0\\n670#trickster: -2\\n624#sumo grand champion: 0\\n663#train signaler: 0\\n602#station master: 0\\n705#woman (elderly): 0\\n617#student (nursery school): 0\\n676#union member: 0\\n706#woman (middle aged): 0\\n```\"]\n",
      "[\"[684#villain]: +3.5\\n[661#toymaker]: -1.0\\n[635#tailor]: -0.5\\n[662#train conductor]: 0.0\\n[703#witness]: -0.5\\n[612#student (enrolled)]: +0.5\\n[677#university lecturer]: +2.0\\n[646#teacher (of blind)]: 0.0\\n[620#stuffed shirt]: -2.0\\n[693#warehouseman]: -0.5\\n[692#wallflower]: -3.0\\n[627#supervisor]: +1.0\\n[638#taxpayer]: 0.0\\n[688#visitor]: 0.0\\n[615#student (jr.college)]: +0.5\\n[653#textile spinner]: -0.5\\n[648#teacher's pet]: +1.0\\n[682#venus]: +3.0\\n[618#student (suspended)]: -2.5\\n[709#yokel]: -2.0\\n[619#student (vocational hs)]: 0.0\\n[699#widow]: -1.5\\n[660#tourist]: 0.0\\n[707#woodworker]: 0.0\\n[695#weakling]: -2.5\\n[670#trickster]: +2.0\\n[702#wife (second)]: -0.5\\n[631#suspended student]: -2.5\\n[664#trainee]: 0.0\\n[645#teacher (nursery school)]: +1.0\\n[636#talented woman]: +1.5\\n[607#stepmother]: -0.5\\n[633#swindler]: +3.0\\n[671#typesetter]: 0.0\\n[656#thief]: +2.5\\n[659#tour guide]: +1.0\\n[711#younger brother]: +1.0\\n[708#writer]: 0.0\\n[625#superior]: +1.0\\n[609#stockholder]: 0.0\\n[600#stalker]: +3.5\\n[641#teacher (handicapped)]: 0.0\\n[683#veterinarian]: 0.0\\n[622#successful candidate]: +2.0\\n[678#university president]: +1.5\\n[616#student (jr. high)]: +0.5\\n[649#teammate]: +1.0\\n[696#weaver]: -0.5\\n[611#student]: +0.5\\n[603#steel worker]: -0.5\\n[658#thug]: +3.0\\n[690#waif]: -2.0\\n[691#waiter]: -0.5\\n[686#virgin]: 0.0\\n[694#watch repairer]: -0.5\\n[681#vampire]: +3.0\\n[676#union member]: +1.0\\n[701#wife (informal)]: +0.5\\n[689#vocational high school student]: 0.0\\n[630#suspect]: +2.0\\n[672#typist]: 0.0\\n[606#stepfather]: -0.5\\n[626#superstar]: +3.0\\n[685#villainess]: +3.5\\n[657#third party]: 0.0\\n[601#star]: +3.0\\n[667#transvestite]: +2.0\\n[621#subordinate]: -0.5\\n[687#virtuous person]: +1.0\\n[679#university reject]: -2.5\\n[628#supreme court justice]: +1.0\\n[706#woman (middle aged)]: 0.0\\n[617#student (nursery school)]: +0.5\\n[710#young person]: +1.0\\n[629#surgeon]: +1.5\\n[639#teacher]: +1.0\\n[610#stone cutter]: -0.5\\n[651#telephone operator]: 0.0\\n[698#wholesaler]: 0.0\\n[644#teacher (kindergarten)]: +1.0\\n[640#teacher (elementary)]: +1.0\\n[643#teacher (jr. high)]: +1.0\\n[614#student (honors)]: +1.0\\n[624#sumo grand champion]: +2.0\\n[613#student enrollee]: +0.5\\n[652#textile dyer]: -0.5\\n[637#taxi driver]: 0.0\\n[675#union activist]: +1.0\\n[608#stewardess]: +1.0\\n[712#younger sister]: +1.0\\n[602#station master]: 0.0\\n[700#wife]: 0.0\\n[666#tramp]: -2.0\\n[674#unemployed person]: -2.0\\n[642#teacher (head)]: +1.5\\n[673#uncle]: 0.0\\n[599#stage dancer]: +2.0\\n[669#travelling salesman]: +1.0\\n[705#woman (elderly)]: 0.0\\n[650#teenager (lovely)]: +1.0\\n[697#white-collar worker]: 0.0\\n[668#travel agent]: 0.0\\n[647#teacher (of deaf)]: 0.0\\n[704#woman]: 0.0\\n[663#train signaler]: 0.0\\n[632#sweetheart]: +2.0\\n[680#valentino]: +2.0\\n[665#traitor]: +2.5\\n[605#stepchild]: 0.0\\n[604#stenographer]: 0.0\\n[654#that kid]: +1.0\\n[634#systems engineer]: 0.0\\n[655#that s.o.b.]: +3.0\\n[623#sufferer]: -2.0\"]\n"
     ]
    }
   ],
   "source": [
    "def run(infile, outfile, args):\n",
    "    api_key = API_KEY\n",
    "\n",
    "    with open(args.prompt_file, encoding='utf-8') as fprompt, open(outfile, 'w', encoding='utf-8') as fout:\n",
    "        flag = True\n",
    "        count = 0\n",
    "        while flag:\n",
    "            try:\n",
    "                ori_prompt = ''.join(fprompt.readlines())  \n",
    "                \n",
    "                df = pd.read_csv(infile, encoding='utf-8', header=None)\n",
    "                lines = df.iloc[args.from_line:args.to_line].apply(lambda row: f\"{row.iloc[0]}, {row.iloc[1]}\", axis=1).tolist()\n",
    "                \n",
    "                for _ in range(5):\n",
    "                    # disorder the sequence of sentences\n",
    "                    random.shuffle(lines)\n",
    "                    prompt = ori_prompt  \n",
    "                    prompt += '\\n概念列表:\\n{}'.format('\\n'.join(str(line) for line in lines))\n",
    "                    \n",
    "                    output = query_openai_model(api_key, prompt, n=1, max_tokens=4000, temperature=args.temperature)  \n",
    "                    print(output)\n",
    "                    \n",
    "                    fout.write(f'{output}\\n')\n",
    "                    fout.flush()\n",
    "                flag = False\n",
    "            except OpenAIError as e:\n",
    "                print(\"Some error happened here: \", e)\n",
    "                count += 1\n",
    "                if count > 10:\n",
    "                    raise e\n",
    "                time.sleep(1)\n",
    "\n",
    "if __name__ == \"__main__\":\n",
    "    args = Args()\n",
    "    run('identities_cn_female.csv', f'chatgpt_f_A_{args.temperature}_{args.from_line}_{args.to_line}.txt', args)\n"
   ]
  }
 ],
 "metadata": {
  "kernelspec": {
   "display_name": "Python 3",
   "language": "python",
   "name": "python3"
  },
  "language_info": {
   "codemirror_mode": {
    "name": "ipython",
    "version": 3
   },
   "file_extension": ".py",
   "mimetype": "text/x-python",
   "name": "python",
   "nbconvert_exporter": "python",
   "pygments_lexer": "ipython3",
   "version": "3.12.0"
  }
 },
 "nbformat": 4,
 "nbformat_minor": 2
}
