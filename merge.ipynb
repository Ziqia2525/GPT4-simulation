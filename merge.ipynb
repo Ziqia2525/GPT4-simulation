{
 "cells": [
  {
   "cell_type": "code",
   "execution_count": 1,
   "metadata": {},
   "outputs": [],
   "source": [
    "import pandas as pd"
   ]
  },
  {
   "cell_type": "code",
   "execution_count": 2,
   "metadata": {},
   "outputs": [],
   "source": [
    "# join gpt ratings with whole sentence\n",
    "\n",
    "def merge_csv_files(file1, file2, output_file, encoding='utf-8'):\n",
    "\n",
    "    df_gpt = pd.read_csv(file1)\n",
    "    df_sen = pd.read_csv(file2, header=None, names=['Number', 'Sentence'])\n",
    "    df_sen['Sentence'] = df_sen['Sentence'].str.replace('_', ' ')\n",
    "\n",
    "    merged_df = pd.merge(df_gpt, df_sen, on='Number')\n",
    "\n",
    "    merged_df.to_csv(output_file, index=False)"
   ]
  },
  {
   "cell_type": "code",
   "execution_count": 19,
   "metadata": {},
   "outputs": [],
   "source": [
    "file1 = 'results/gpt4_fr_s16_ratings.csv'  \n",
    "file2 = 'fr_Sentences_items_sheet16.csv' \n",
    "output_file = 'merged/s16_gpt_sen_merged.csv'\n",
    "\n",
    "merge_csv_files(file1, file2, output_file)"
   ]
  },
  {
   "cell_type": "code",
   "execution_count": 20,
   "metadata": {},
   "outputs": [],
   "source": [
    "# combine all 16 subsets\n",
    "\n",
    "def combine_csv_to_excel(csv_files, excel_file, encoding='utf-8'):\n",
    "\n",
    "    with pd.ExcelWriter(excel_file, engine='openpyxl') as writer:\n",
    "        for i, csv_file in enumerate(csv_files):\n",
    "\n",
    "            df = pd.read_csv(csv_file)\n",
    "            sheet_name = f'Sheet{i+1}'\n",
    "            df.to_excel(writer, sheet_name=sheet_name, index=False)\n"
   ]
  },
  {
   "cell_type": "code",
   "execution_count": 21,
   "metadata": {},
   "outputs": [],
   "source": [
    "csv_files = [\n",
    "    'merged/s1_gpt_sen_merged.csv', 'merged/s2_gpt_sen_merged.csv', 'merged/s3_gpt_sen_merged.csv', 'merged/s4_gpt_sen_merged.csv',\n",
    "    'merged/s5_gpt_sen_merged.csv', 'merged/s6_gpt_sen_merged.csv', 'merged/s7_gpt_sen_merged.csv', 'merged/s8_gpt_sen_merged.csv',\n",
    "    'merged/s9_gpt_sen_merged.csv', 'merged/s10_gpt_sen_merged.csv', 'merged/s11_gpt_sen_merged.csv', 'merged/s12_gpt_sen_merged.csv',\n",
    "    'merged/s13_gpt_sen_merged.csv', 'merged/s14_gpt_sen_merged.csv', 'merged/s15_gpt_sen_merged.csv', 'merged/s16_gpt_sen_merged.csv'\n",
    "]"
   ]
  },
  {
   "cell_type": "code",
   "execution_count": 22,
   "metadata": {},
   "outputs": [],
   "source": [
    "excel_file = 'merged/gpt4_sentences_temper1.xlsx'\n",
    "combine_csv_to_excel(csv_files, excel_file)"
   ]
  },
  {
   "cell_type": "code",
   "execution_count": 23,
   "metadata": {},
   "outputs": [],
   "source": [
    "# merge with original dataset\n",
    "\n",
    "def merge_ori(files1, files2, output_file):\n",
    "\n",
    "    with pd.ExcelWriter(output_file, engine='openpyxl') as writer:\n",
    "\n",
    "        sheets1 = pd.ExcelFile(files1).sheet_names\n",
    "        sheets2 = pd.ExcelFile(files2).sheet_names\n",
    "\n",
    "        for sheet_name1, sheet_name2 in zip(sheets1, sheets2):\n",
    "\n",
    "            df_gpt_merge = pd.read_excel(files1, sheet_name=sheet_name1)\n",
    "\n",
    "            df_ori = pd.read_excel(files2, sheet_name=sheet_name2)\n",
    "            df_ori.insert(0, 'Number', range(len(df_ori)))\n",
    "\n",
    "            merged_gpt_ori = pd.merge(df_ori, df_gpt_merge, on='Number', suffixes=('_file1', '_file2'))\n",
    "            merged_gpt_ori.drop(columns=['Sentence'], inplace=True)\n",
    "\n",
    "            merged_gpt_ori.to_excel(writer, sheet_name=sheet_name2, index=False)\n",
    "\n",
    "\n",
    "files1 = 'merged/gpt4_sentences_temper1.xlsx'\n",
    "files2 = 'samples_sentences_fr_27-Apr-2023.xlsx'\n",
    "output_file = 'merged/gpt4_fr_samples_sentences.xlsx'"
   ]
  },
  {
   "cell_type": "code",
   "execution_count": 24,
   "metadata": {},
   "outputs": [
    {
     "name": "stderr",
     "output_type": "stream",
     "text": [
      "d:\\python\\python3\\Lib\\site-packages\\openpyxl\\styles\\stylesheet.py:226: UserWarning: Workbook contains no default style, apply openpyxl's default\n",
      "  warn(\"Workbook contains no default style, apply openpyxl's default\")\n",
      "d:\\python\\python3\\Lib\\site-packages\\openpyxl\\styles\\stylesheet.py:226: UserWarning: Workbook contains no default style, apply openpyxl's default\n",
      "  warn(\"Workbook contains no default style, apply openpyxl's default\")\n",
      "d:\\python\\python3\\Lib\\site-packages\\openpyxl\\styles\\stylesheet.py:226: UserWarning: Workbook contains no default style, apply openpyxl's default\n",
      "  warn(\"Workbook contains no default style, apply openpyxl's default\")\n",
      "d:\\python\\python3\\Lib\\site-packages\\openpyxl\\styles\\stylesheet.py:226: UserWarning: Workbook contains no default style, apply openpyxl's default\n",
      "  warn(\"Workbook contains no default style, apply openpyxl's default\")\n",
      "d:\\python\\python3\\Lib\\site-packages\\openpyxl\\styles\\stylesheet.py:226: UserWarning: Workbook contains no default style, apply openpyxl's default\n",
      "  warn(\"Workbook contains no default style, apply openpyxl's default\")\n",
      "d:\\python\\python3\\Lib\\site-packages\\openpyxl\\styles\\stylesheet.py:226: UserWarning: Workbook contains no default style, apply openpyxl's default\n",
      "  warn(\"Workbook contains no default style, apply openpyxl's default\")\n",
      "d:\\python\\python3\\Lib\\site-packages\\openpyxl\\styles\\stylesheet.py:226: UserWarning: Workbook contains no default style, apply openpyxl's default\n",
      "  warn(\"Workbook contains no default style, apply openpyxl's default\")\n",
      "d:\\python\\python3\\Lib\\site-packages\\openpyxl\\styles\\stylesheet.py:226: UserWarning: Workbook contains no default style, apply openpyxl's default\n",
      "  warn(\"Workbook contains no default style, apply openpyxl's default\")\n",
      "d:\\python\\python3\\Lib\\site-packages\\openpyxl\\styles\\stylesheet.py:226: UserWarning: Workbook contains no default style, apply openpyxl's default\n",
      "  warn(\"Workbook contains no default style, apply openpyxl's default\")\n",
      "d:\\python\\python3\\Lib\\site-packages\\openpyxl\\styles\\stylesheet.py:226: UserWarning: Workbook contains no default style, apply openpyxl's default\n",
      "  warn(\"Workbook contains no default style, apply openpyxl's default\")\n",
      "d:\\python\\python3\\Lib\\site-packages\\openpyxl\\styles\\stylesheet.py:226: UserWarning: Workbook contains no default style, apply openpyxl's default\n",
      "  warn(\"Workbook contains no default style, apply openpyxl's default\")\n",
      "d:\\python\\python3\\Lib\\site-packages\\openpyxl\\styles\\stylesheet.py:226: UserWarning: Workbook contains no default style, apply openpyxl's default\n",
      "  warn(\"Workbook contains no default style, apply openpyxl's default\")\n",
      "d:\\python\\python3\\Lib\\site-packages\\openpyxl\\styles\\stylesheet.py:226: UserWarning: Workbook contains no default style, apply openpyxl's default\n",
      "  warn(\"Workbook contains no default style, apply openpyxl's default\")\n",
      "d:\\python\\python3\\Lib\\site-packages\\openpyxl\\styles\\stylesheet.py:226: UserWarning: Workbook contains no default style, apply openpyxl's default\n",
      "  warn(\"Workbook contains no default style, apply openpyxl's default\")\n",
      "d:\\python\\python3\\Lib\\site-packages\\openpyxl\\styles\\stylesheet.py:226: UserWarning: Workbook contains no default style, apply openpyxl's default\n",
      "  warn(\"Workbook contains no default style, apply openpyxl's default\")\n",
      "d:\\python\\python3\\Lib\\site-packages\\openpyxl\\styles\\stylesheet.py:226: UserWarning: Workbook contains no default style, apply openpyxl's default\n",
      "  warn(\"Workbook contains no default style, apply openpyxl's default\")\n",
      "d:\\python\\python3\\Lib\\site-packages\\openpyxl\\styles\\stylesheet.py:226: UserWarning: Workbook contains no default style, apply openpyxl's default\n",
      "  warn(\"Workbook contains no default style, apply openpyxl's default\")\n"
     ]
    }
   ],
   "source": [
    "merge_ori(files1, files2, output_file)"
   ]
  }
 ],
 "metadata": {
  "kernelspec": {
   "display_name": "Python 3",
   "language": "python",
   "name": "python3"
  },
  "language_info": {
   "codemirror_mode": {
    "name": "ipython",
    "version": 3
   },
   "file_extension": ".py",
   "mimetype": "text/x-python",
   "name": "python",
   "nbconvert_exporter": "python",
   "pygments_lexer": "ipython3",
   "version": "3.12.0"
  }
 },
 "nbformat": 4,
 "nbformat_minor": 2
}
