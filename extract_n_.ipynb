{
 "cells": [
  {
   "cell_type": "code",
   "execution_count": 1,
   "metadata": {},
   "outputs": [],
   "source": [
    "import re\n",
    "from pathlib import Path"
   ]
  },
  {
   "cell_type": "code",
   "execution_count": 2,
   "metadata": {},
   "outputs": [],
   "source": [
    "def extract(infile, outfile):\n",
    "    with open(infile, encoding='utf-8') as f, open(outfile, 'w', encoding='utf-8') as fout:\n",
    "        lines = f.readlines()\n",
    "        concepts = {}\n",
    "\n",
    "        for line in lines:\n",
    "            try:\n",
    "                line = eval(line)\n",
    "            except:\n",
    "                print(f\"Skipping line due to eval error: {line.strip()}\")\n",
    "                continue\n",
    "\n",
    "            for res in line:\n",
    "                res = res.split('\\n')\n",
    "                for term in res:\n",
    "                    term = term.strip().lower()\n",
    "                    if not term:\n",
    "                        continue\n",
    "\n",
    "                    terms = term.split(':')\n",
    "                    if len(terms) != 2:\n",
    "                        print(f\"Parsing error: term {term}\")\n",
    "                        continue\n",
    "\n",
    "                    concept, epa = terms[0].strip(), terms[1].strip()\n",
    "\n",
    "                    concept = concept.rstrip(']').strip()\n",
    "\n",
    "                    # Replace underscores with spaces to unify the concept name\n",
    "                    concept = concept.replace('_', ' ')\n",
    "\n",
    "                    # Extract numeric identifier and concept\n",
    "                    match = re.search(r'(\\d+#.*)', concept)\n",
    "                    if not match:\n",
    "                        print(f\"Parsing error: concept {concept}\")\n",
    "                        continue\n",
    "\n",
    "                    num_concept = match.group(1)\n",
    "                    epa = epa.strip('[]')\n",
    "\n",
    "                    try:\n",
    "                        epa = float(epa)\n",
    "                    except:\n",
    "                        print(f\"EPA '{epa}' cannot be parsed for term '{term}'\")\n",
    "                        continue\n",
    "\n",
    "                    if num_concept not in concepts:\n",
    "                        concepts[num_concept] = []\n",
    "\n",
    "                    concepts[num_concept].append(epa)\n",
    "\n",
    "        for num_concept in sorted(concepts.keys(), key=lambda x: int(x.split('#')[0])):\n",
    "            if len(concepts[num_concept]) != 5:\n",
    "                print(f\"Concept {num_concept} does not have 5 outputs!\")\n",
    "            else:\n",
    "                num, concept = num_concept.split('#', 1)\n",
    "                epa_values = concepts[num_concept]\n",
    "                fout.write(f\"{num}, {concept}, {epa_values}\\n\")"
   ]
  },
  {
   "cell_type": "code",
   "execution_count": 26,
   "metadata": {},
   "outputs": [
    {
     "name": "stdout",
     "output_type": "stream",
     "text": [
      "Parsing error: term ```plaintext\n",
      "Parsing error: term ```\n"
     ]
    }
   ],
   "source": [
    "infile = 'chatgpt_f_A_1_600_714.txt'\n",
    "outfile = 'extracted_f/chatgpt_f_A_1_600_714.txt'\n",
    "Path('extracted').mkdir(parents=True, exist_ok=True)\n",
    "extract(infile, outfile)"
   ]
  }
 ],
 "metadata": {
  "kernelspec": {
   "display_name": "Python 3",
   "language": "python",
   "name": "python3"
  },
  "language_info": {
   "codemirror_mode": {
    "name": "ipython",
    "version": 3
   },
   "file_extension": ".py",
   "mimetype": "text/x-python",
   "name": "python",
   "nbconvert_exporter": "python",
   "pygments_lexer": "ipython3",
   "version": "3.12.0"
  }
 },
 "nbformat": 4,
 "nbformat_minor": 2
}
